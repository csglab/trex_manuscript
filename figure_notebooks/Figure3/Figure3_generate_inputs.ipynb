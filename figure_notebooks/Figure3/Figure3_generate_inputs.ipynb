{
 "cells": [
  {
   "cell_type": "code",
   "execution_count": 1,
   "id": "c60198e3-b191-4617-b704-7323a1d5f9e7",
   "metadata": {},
   "outputs": [
    {
     "name": "stderr",
     "output_type": "stream",
     "text": [
      "\n",
      "Attaching package: ‘dplyr’\n",
      "\n",
      "\n",
      "The following objects are masked from ‘package:stats’:\n",
      "\n",
      "    filter, lag\n",
      "\n",
      "\n",
      "The following objects are masked from ‘package:base’:\n",
      "\n",
      "    intersect, setdiff, setequal, union\n",
      "\n",
      "\n"
     ]
    }
   ],
   "source": [
    "library(dplyr)"
   ]
  },
  {
   "cell_type": "code",
   "execution_count": 2,
   "id": "875c0073-43f3-43af-a594-8b157ed57354",
   "metadata": {},
   "outputs": [
    {
     "name": "stdout",
     "output_type": "stream",
     "text": [
      "Loading objects:\n",
      "  metadata\n",
      "Loading objects:\n",
      "  spl_embed\n",
      "Loading objects:\n",
      "  gene_embed\n"
     ]
    }
   ],
   "source": [
    "load(\"~/lmprojects/trex_manuscript/analyses/confounders/input/tcga.metadata.RData\",verbose=T)\n",
    "load(\"~/lmprojects/trex_manuscript/analyses/confounders/input/tcga.SE.splicing.embeddings.RData\",verbose=T)\n",
    "load(\"~/lmprojects/trex_manuscript/analyses/confounders/input/tcga.gene.expression.embeddings.RData\",verbose=T)\n",
    "pca.var.cor<-readRDS(\"~/lmprojects/trex_manuscript/analyses/confounders/input/pc.impurity.correlations.RDS\")\n",
    "\n",
    "write.table(metadata,file=\"input/tcga.metadata.tsv\",sep=\"\\t\",quote=F,col.names=TRUE,row.names=FALSE)\n",
    "write.table(spl_embed,file=\"input/tcga.spl_embed.tsv\",sep=\"\\t\",quote=F,col.names=TRUE,row.names=FALSE)\n",
    "write.table(gene_embed,file=\"input/tcga.gene_embed.tsv\",sep=\"\\t\",quote=F,col.names=TRUE,row.names=FALSE)\n",
    "write.table(pca.var.cor,file=\"input/tcga.pc.impurity.correlations.tsv\",sep=\"\\t\",quote=F,col.names=TRUE,row.names=FALSE)"
   ]
  },
  {
   "cell_type": "code",
   "execution_count": 3,
   "id": "d880836b-7ddc-4664-9c4f-0bf612f6a91f",
   "metadata": {},
   "outputs": [
    {
     "name": "stdout",
     "output_type": "stream",
     "text": [
      "Loading objects:\n",
      "  spl_embed\n",
      "Loading objects:\n",
      "  gene_embed\n"
     ]
    }
   ],
   "source": [
    "ctype<-\"KIRC\"\n",
    "load(file=paste0(\"~/lmprojects/trex_manuscript/analyses/confounders/input/by_cancer/\",ctype,\".SE.splicing.embeddings.RData\"),verbose = T)\n",
    "load(file=paste0(\"~/lmprojects/trex_manuscript/analyses/confounders/input/by_cancer/\",ctype,\".gene.expression.embeddings.RData\"),verbose = T)\n",
    "\n",
    "write.table(spl_embed,file=\"input/kirc.spl_embed.tsv\",sep=\"\\t\",quote=F,col.names=TRUE,row.names=FALSE)\n",
    "write.table(gene_embed,file=\"input/kirc.gene_embed.tsv\",sep=\"\\t\",quote=F,col.names=TRUE,row.names=FALSE)"
   ]
  }
 ],
 "metadata": {
  "kernelspec": {
   "display_name": "R",
   "language": "R",
   "name": "ir"
  },
  "language_info": {
   "codemirror_mode": "r",
   "file_extension": ".r",
   "mimetype": "text/x-r-source",
   "name": "R",
   "pygments_lexer": "r",
   "version": "4.1.2"
  }
 },
 "nbformat": 4,
 "nbformat_minor": 5
}
